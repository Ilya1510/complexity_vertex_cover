{
 "cells": [
  {
   "cell_type": "code",
   "execution_count": 5,
   "metadata": {
    "collapsed": true
   },
   "outputs": [],
   "source": [
    "w = []\n",
    "edges = []"
   ]
  },
  {
   "cell_type": "code",
   "execution_count": 6,
   "metadata": {
    "collapsed": true
   },
   "outputs": [],
   "source": [
    "import numpy as np"
   ]
  },
  {
   "cell_type": "code",
   "execution_count": 35,
   "metadata": {
    "collapsed": true
   },
   "outputs": [],
   "source": [
    "def get_min_weight_cover(w, edges):\n",
    "    w = np.array(w)\n",
    "    edges = np.array(edges)\n",
    "    n = len(w)\n",
    "    min_weight_cover = np.inf\n",
    "    best_covers = []\n",
    "\n",
    "    for i in range(2**n):\n",
    "        i_copy = i\n",
    "        is_taken = []\n",
    "        for j in range(n):\n",
    "            is_taken.append(i_copy % 2 == 1)\n",
    "            i_copy //= 2\n",
    "        is_taken = np.array(is_taken)\n",
    "        is_vertex_cover = True\n",
    "        for e in edges:\n",
    "            if not is_taken[e[0]] and not is_taken[e[1]]:\n",
    "                is_vertex_cover = False\n",
    "        if is_vertex_cover:\n",
    "            weight_cover = np.sum(w[is_taken])\n",
    "            if (weight_cover < min_weight_cover):\n",
    "                min_weight_cover = weight_cover\n",
    "                best_covers = [is_taken.nonzero()]\n",
    "            elif weight_cover == min_weight_cover:\n",
    "                best_covers.append(is_taken.nonzero())\n",
    "    return min_weight_cover, best_covers"
   ]
  },
  {
   "cell_type": "code",
   "execution_count": 36,
   "metadata": {
    "collapsed": false
   },
   "outputs": [
    {
     "data": {
      "text/plain": [
       "(8, [(array([1, 2, 3, 4]),), (array([0, 2, 5]),)])"
      ]
     },
     "execution_count": 36,
     "metadata": {},
     "output_type": "execute_result"
    }
   ],
   "source": [
    "get_min_weight_cover([4, 1, 2, 3, 2, 2], \n",
    "                     [(0, 1), (0, 2), (0, 3), (0, 4), (2, 3), (3, 5), (4, 5)])"
   ]
  },
  {
   "cell_type": "code",
   "execution_count": 37,
   "metadata": {
    "collapsed": false
   },
   "outputs": [
    {
     "data": {
      "text/plain": [
       "(15,\n",
       " [(array([1, 3, 4, 5, 7]),),\n",
       "  (array([1, 3, 4, 6, 7]),),\n",
       "  (array([0, 2, 3, 5, 6, 8]),)])"
      ]
     },
     "execution_count": 37,
     "metadata": {},
     "output_type": "execute_result"
    }
   ],
   "source": [
    "get_min_weight_cover([2, 2, 3, 4, 4, 2, 2, 3, 2], \n",
    "                     [(0, 1), (1, 2), (2, 3), (2, 4), (4, 5), (5, 6), (4, 6), \n",
    "                     (3, 4), (3, 8), (3, 7), (7, 8), (7, 0)])"
   ]
  },
  {
   "cell_type": "code",
   "execution_count": 38,
   "metadata": {
    "collapsed": false
   },
   "outputs": [
    {
     "data": {
      "text/plain": [
       "(15, [(array([0, 1, 3, 5]),), (array([0, 2, 4, 6]),)])"
      ]
     },
     "execution_count": 38,
     "metadata": {},
     "output_type": "execute_result"
    }
   ],
   "source": [
    "get_min_weight_cover([6, 3, 3, 3, 3, 3, 3], \n",
    "                     [(0, 1), (0, 2), (0, 3), (0, 4), (0, 5), (0, 6), (1, 6), \n",
    "                     (1, 2), (2, 3), (3, 4), (4, 5), (5, 6)])"
   ]
  },
  {
   "cell_type": "code",
   "execution_count": 39,
   "metadata": {
    "collapsed": false
   },
   "outputs": [
    {
     "data": {
      "text/plain": [
       "(19,\n",
       " [(array([0, 1, 2, 4, 6]),),\n",
       "  (array([0, 1, 3, 4, 6]),),\n",
       "  (array([0, 1, 3, 5, 6]),),\n",
       "  (array([0, 1, 3, 5, 7]),),\n",
       "  (array([0, 2, 3, 5, 7]),),\n",
       "  (array([0, 2, 4, 5, 7]),),\n",
       "  (array([0, 2, 4, 6, 7]),)])"
      ]
     },
     "execution_count": 39,
     "metadata": {},
     "output_type": "execute_result"
    }
   ],
   "source": [
    "get_min_weight_cover([7, 3, 3, 3, 3, 3, 3, 3], \n",
    "                     [(0, 1), (0, 2), (0, 3), (0, 4), (0, 5), (0, 6), (0, 7), (1, 7), (7, 6), \n",
    "                     (1, 2), (2, 3), (3, 4), (4, 5), (5, 6)])"
   ]
  },
  {
   "cell_type": "code",
   "execution_count": null,
   "metadata": {
    "collapsed": true
   },
   "outputs": [],
   "source": []
  }
 ],
 "metadata": {
  "kernelspec": {
   "display_name": "Python 3",
   "language": "python",
   "name": "python3"
  },
  "language_info": {
   "codemirror_mode": {
    "name": "ipython",
    "version": 3
   },
   "file_extension": ".py",
   "mimetype": "text/x-python",
   "name": "python",
   "nbconvert_exporter": "python",
   "pygments_lexer": "ipython3",
   "version": "3.6.6"
  }
 },
 "nbformat": 4,
 "nbformat_minor": 2
}
